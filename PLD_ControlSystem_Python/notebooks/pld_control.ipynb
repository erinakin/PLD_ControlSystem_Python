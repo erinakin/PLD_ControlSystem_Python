{
 "cells": [
  {
   "cell_type": "markdown",
   "metadata": {},
   "source": [
    "### Motion Controls\n",
    "##### Goal  \n",
    "Modular Code So blocks for specific functions or buttons\n",
    "First Identify What functions are necessary for experiment context\n",
    "\n",
    "#### Features from LabView Code \n",
    "\n",
    "Accepts these Inputs:  \n",
    "IP Address: 192.168.254.254  \n",
    "Port No: 5001  \n",
    "Timeout: 10,000  \n",
    "GroupName: Group 1  \n",
    "nbitems: 1  \n",
    "TargetPosition:  \n",
    "STOP BUTTON  "
   ]
  },
  {
   "cell_type": "markdown",
   "metadata": {},
   "source": [
    "### Connect and Status"
   ]
  },
  {
   "cell_type": "markdown",
   "metadata": {},
   "source": [
    "1. Create xps object and Checks group status below"
   ]
  },
  {
   "cell_type": "code",
   "execution_count": 1,
   "metadata": {},
   "outputs": [],
   "source": [
    "%load_ext autoreload\n",
    "%autoreload 2   "
   ]
  },
  {
   "cell_type": "code",
   "execution_count": 2,
   "metadata": {},
   "outputs": [],
   "source": [
    "import sys\n",
    "import os\n",
    "\n",
    "# sys.path.append(r'C:\\Users\\ooa56\\Documents\\PLD_ControlSystem_Python')\n",
    "sys.path.append(r'C:\\Users\\ooa56\\Documents\\PLD_ControlSystem_Python\\PLD_ControlSystem_Python\\src')"
   ]
  },
  {
   "cell_type": "code",
   "execution_count": 3,
   "metadata": {},
   "outputs": [],
   "source": [
    "\n",
    "# from src.newportxps import NewportXPS\n",
    "\n",
    "# xps = NewportXPS('192.168.254.254', username='Administrator', password='Administrator')\n",
    "\n",
    "# print(xps.status_report())\n"
   ]
  },
  {
   "cell_type": "code",
   "execution_count": 4,
   "metadata": {},
   "outputs": [],
   "source": [
    "# xps.read_systemini()"
   ]
  },
  {
   "cell_type": "markdown",
   "metadata": {},
   "source": [
    "Error Description:\n",
    "ZM high level: This refers to the mechanical zero signal used with some stages. The ZM\n",
    "signal is high during one part of the travel and low during the other part of the travel.\n",
    "The detection of the ZM high/low transition in combination with an encoder index pulse\n",
    "signal allows a fast and repeatable origin search\n",
    "(MechanicalZeroAndIndexHomeSearch).\n",
    "\n",
    "Do I need to resolve this error? Don't think so has not prevented the running of following commands\n",
    "\n"
   ]
  },
  {
   "cell_type": "code",
   "execution_count": 5,
   "metadata": {},
   "outputs": [],
   "source": [
    "# Print all stages configured on the controller\n",
    "#for sname, info in xps.stages.items():\n",
    "#    print(sname, xps.get_stage_position(sname), info)"
   ]
  },
  {
   "cell_type": "markdown",
   "metadata": {},
   "source": [
    "Note:  To prevent following Error during Homing process. Ensure that within the stages.ini configuration file the Home Search Process Parameters are as below the maximum velocity is 40 Unit/Sec.  \n",
    "SETTINGS:  \n",
    "; --- Home search process parameters  \n",
    "; --- <HomeSearch.MechanicalZeroAndIndexHomeSearch>  \n",
    "HomeSearchSequenceType = MechanicalZeroAndIndexHomeSearch  \n",
    "HomeSearchMaximumVelocity = 30 ; Unit/Sec  \n",
    "HomeSearchMaximumAcceleration = 400 ; Unit/Sec²  \n",
    "HomeSearchTimeOut = 10 ; Sec  \n",
    "HomingSensorOffset = 0 ; Unit  "
   ]
  },
  {
   "cell_type": "markdown",
   "metadata": {},
   "source": [
    "### Initialize and Home"
   ]
  },
  {
   "cell_type": "markdown",
   "metadata": {},
   "source": [
    "2. Now Initialize Group  \n",
    "Notes:  \n",
    "Initializing the group (turning the motor on) causes the stage to move.  \n",
    "Have not neccessarily observed pattern in how much the stage moves or even the direction it moves.  \n",
    "Comparing the command above and below to check the position of the group shows the change.\n",
    "AFter initializing group Status is in Not Referenced State\n"
   ]
  },
  {
   "cell_type": "code",
   "execution_count": 6,
   "metadata": {},
   "outputs": [],
   "source": [
    "#if group status enabled then kill all groups else initialize group\n",
    "# Remember to Kill Group before exiting or if the motor is still on\n",
    "#xps.kill_group('Group1')\n",
    "\n",
    "# Turns on the servo Motor for the specified group and home the stage\n",
    "#xps.initialize_group('Group1', with_encoder=True, home=True, with_raise=True)"
   ]
  },
  {
   "cell_type": "code",
   "execution_count": 7,
   "metadata": {},
   "outputs": [],
   "source": [
    "# Print all groups configured on the controller\n",
    "#for gname, info in xps.groups.items():\n",
    "#    print(gname, info)"
   ]
  },
  {
   "cell_type": "code",
   "execution_count": 8,
   "metadata": {},
   "outputs": [],
   "source": [
    "# Note Turning the servo on will cause the stage to move the stage position\n",
    "# Check to make sure that these functions perform as expected\n",
    "#print('Where Group1.Pos is', xps.get_stage_position('Group1.Pos'), info)\n",
    "# print(xps.get_group_status())"
   ]
  },
  {
   "cell_type": "markdown",
   "metadata": {},
   "source": [
    "### Move Motion Stage"
   ]
  },
  {
   "cell_type": "code",
   "execution_count": 9,
   "metadata": {},
   "outputs": [],
   "source": [
    "# Move the stage to a new position. Default is absolute motion can optionally set the motion to relative by relative=True\n",
    "# xps.move_stage('Group1.Pos', 10.0)\n"
   ]
  },
  {
   "cell_type": "markdown",
   "metadata": {},
   "source": [
    "## start here\n",
    "#### TESTING FUNCTIONS FROM SIMPLIFIED CONTROLLER SCRIPT"
   ]
  },
  {
   "cell_type": "code",
   "execution_count": 10,
   "metadata": {},
   "outputs": [],
   "source": [
    "import pld_controlsystem_python.motion_ctrl as mc"
   ]
  },
  {
   "cell_type": "code",
   "execution_count": 11,
   "metadata": {},
   "outputs": [],
   "source": [
    "# Initialize motion controller with host IP address and optional group name\n",
    "controller = mc.MotionController('192.168.254.254', username='Administrator', password='Administrator')\n"
   ]
  },
  {
   "cell_type": "markdown",
   "metadata": {},
   "source": [
    "The initialize and Home function Initializes and homes all the groups connected to the controller."
   ]
  },
  {
   "cell_type": "code",
   "execution_count": 12,
   "metadata": {},
   "outputs": [
    {
     "name": "stdout",
     "output_type": "stream",
     "text": [
      "XPSError: message= homing group 'Group1', error=-26, description=Kill command or Emergency signal : check each positioners and each slave positioners, check that motion does not exceed software limits when combined with mapping and other features.\n",
      " 'Group1' already initialized so will kill and reinitialize \n"
     ]
    },
    {
     "data": {
      "text/plain": [
       "'# XPS host:         192.168.254.254 (XPS-1871)\\n# Firmware:         XPS-RL-D-N16002\\n# Current Time:     Mon Jul 29 16:18:13 2024\\n# Last Reboot:      Sat May 25 07:52:42 2024\\n# Trajectory Group: None\\n# Groups and Stages\\nGroup1 (singleaxisinuse), Status: Ready state from homing\\nStages:\\n   Group1.Pos (ILS@ILS200LM@XPS-DRV02)\\n      Hardware Status: First driver powered on - ZM low level\\n      Positioner Errors: OK'"
      ]
     },
     "execution_count": 12,
     "metadata": {},
     "output_type": "execute_result"
    }
   ],
   "source": [
    "\n",
    "# Initialize and home the motion controller\n",
    "controller.initialize_and_home()\n"
   ]
  },
  {
   "cell_type": "markdown",
   "metadata": {},
   "source": [
    "The set_position function currently needs the name of the Stage to be specified but I can hard code this to be the first stage name  this to be the first stage name."
   ]
  },
  {
   "cell_type": "code",
   "execution_count": 13,
   "metadata": {},
   "outputs": [
    {
     "name": "stdout",
     "output_type": "stream",
     "text": [
      "The current position of Group1.Pos is 49.997795\n"
     ]
    }
   ],
   "source": [
    "\n",
    "# Set position of a stage\n",
    "controller.set_position(stage=\"Group1.Pos\", position=50.0)\n"
   ]
  },
  {
   "cell_type": "code",
   "execution_count": 14,
   "metadata": {},
   "outputs": [
    {
     "name": "stdout",
     "output_type": "stream",
     "text": [
      "The current position of Group1.Pos is 49.99856\n"
     ]
    }
   ],
   "source": [
    "controller.get_position(stage=\"Group1.Pos\")"
   ]
  },
  {
   "cell_type": "code",
   "execution_count": 15,
   "metadata": {},
   "outputs": [
    {
     "name": "stdout",
     "output_type": "stream",
     "text": [
      "The current velocity of Group1.Pos is 500 Units/sec\n"
     ]
    }
   ],
   "source": [
    "\n",
    "# Set velocity parameters for a stage\n",
    "# Can be expanded to include acceleration and jerktime parameters\n",
    "controller.set_velocity(stage=\"Group1.Pos\", velocity=500.0, )\n"
   ]
  },
  {
   "cell_type": "code",
   "execution_count": 16,
   "metadata": {},
   "outputs": [
    {
     "name": "stdout",
     "output_type": "stream",
     "text": [
      "The current velocity of Group1.Pos is 500 Units/sec\n"
     ]
    }
   ],
   "source": [
    "controller.get_velocity(stage=\"Group1.Pos\") "
   ]
  },
  {
   "cell_type": "code",
   "execution_count": 17,
   "metadata": {},
   "outputs": [
    {
     "name": "stdout",
     "output_type": "stream",
     "text": [
      "The current position of Group1.Pos is 0.01051\n"
     ]
    }
   ],
   "source": [
    "controller.set_position(stage=\"Group1.Pos\", position=0.0)"
   ]
  },
  {
   "cell_type": "code",
   "execution_count": 18,
   "metadata": {},
   "outputs": [],
   "source": [
    "\n",
    "# Stop the motion controller\n",
    "controller.stop_controller()"
   ]
  },
  {
   "cell_type": "markdown",
   "metadata": {},
   "source": [
    "## Attenuator Controls"
   ]
  },
  {
   "cell_type": "code",
   "execution_count": 19,
   "metadata": {},
   "outputs": [],
   "source": [
    "import pld_controlsystem_python.attenuator_ctrl as ac\n"
   ]
  },
  {
   "cell_type": "markdown",
   "metadata": {},
   "source": [
    "## Troubleshooting attempt ##\n",
    "1. Take Pictures of current state of controller wiring\n",
    "2. Examine Attenuator Schematics understand them in relation to the physical system\n",
    "\n",
    "Today: First tried to run commands above again and got the same response of the cell continuously running. Then tried uploading the Arduino sketch to the controller through the Arduino IDE unsuccessfully.\n",
    "\n",
    "Will proceed with initial plan to resolve the unresponsiveness of the controller.\n",
    "\n",
    "06/03/24- Problem Resolved. \n",
    "- Created new python script with attenuator controls based on Labview set-up. \n",
    "- Gained better undertanding of the labview blocks. \n",
    "- Attenuator now responds to commands."
   ]
  },
  {
   "cell_type": "code",
   "execution_count": 20,
   "metadata": {},
   "outputs": [],
   "source": [
    "laser = ac.AttenuatorControls(port='COM5')\n"
   ]
  },
  {
   "cell_type": "code",
   "execution_count": 21,
   "metadata": {},
   "outputs": [],
   "source": [
    "angle = 45\n",
    "speed = 5\n"
   ]
  },
  {
   "cell_type": "code",
   "execution_count": 22,
   "metadata": {},
   "outputs": [],
   "source": [
    "# Execute the sequence of operations\n",
    "laser.rotate_to_angle(angle)\n"
   ]
  },
  {
   "cell_type": "code",
   "execution_count": 23,
   "metadata": {},
   "outputs": [],
   "source": [
    "laser.clear_laser()\n"
   ]
  },
  {
   "cell_type": "code",
   "execution_count": 24,
   "metadata": {},
   "outputs": [],
   "source": [
    "laser.block_laser()\n"
   ]
  },
  {
   "cell_type": "code",
   "execution_count": 25,
   "metadata": {},
   "outputs": [],
   "source": [
    "laser.home_attenuator()\n",
    "laser.set_rotation_speed(speed)\n",
    "\n",
    "# Close the serial connection\n",
    "laser.close()\n"
   ]
  },
  {
   "cell_type": "markdown",
   "metadata": {},
   "source": [
    "## Target Controls\n",
    "\n",
    "The carousel responds to commands."
   ]
  },
  {
   "cell_type": "code",
   "execution_count": 26,
   "metadata": {},
   "outputs": [],
   "source": [
    "import pld_controlsystem_python.target_ctrl as tc"
   ]
  },
  {
   "cell_type": "code",
   "execution_count": 27,
   "metadata": {},
   "outputs": [],
   "source": [
    "carousel = tc.TargetControls(port='COM7')\n",
    "\n"
   ]
  },
  {
   "cell_type": "code",
   "execution_count": 28,
   "metadata": {},
   "outputs": [],
   "source": [
    "\n",
    "angle = 40\n",
    "speed = 5\n"
   ]
  },
  {
   "cell_type": "code",
   "execution_count": 29,
   "metadata": {},
   "outputs": [],
   "source": [
    "# Execute the sequence of operations\n",
    "carousel.step_raster_cw()"
   ]
  },
  {
   "cell_type": "code",
   "execution_count": 30,
   "metadata": {},
   "outputs": [],
   "source": [
    "carousel.step_raster_ccw()"
   ]
  },
  {
   "cell_type": "code",
   "execution_count": 31,
   "metadata": {},
   "outputs": [],
   "source": [
    "carousel.home_raster()\n"
   ]
  },
  {
   "cell_type": "code",
   "execution_count": 32,
   "metadata": {},
   "outputs": [],
   "source": [
    "carousel.set_raster_speed(speed)\n"
   ]
  },
  {
   "cell_type": "code",
   "execution_count": 33,
   "metadata": {},
   "outputs": [],
   "source": [
    "carousel.start_raster(45)\n"
   ]
  },
  {
   "cell_type": "code",
   "execution_count": 34,
   "metadata": {},
   "outputs": [],
   "source": [
    "carousel.stop_raster()\n"
   ]
  },
  {
   "cell_type": "code",
   "execution_count": 35,
   "metadata": {},
   "outputs": [],
   "source": [
    "carousel.start_rotate()\n"
   ]
  },
  {
   "cell_type": "code",
   "execution_count": 36,
   "metadata": {},
   "outputs": [],
   "source": [
    "carousel.stop_rotation()\n"
   ]
  },
  {
   "cell_type": "code",
   "execution_count": 37,
   "metadata": {},
   "outputs": [],
   "source": [
    "carousel.rotate_to_angle(angle)\n",
    "carousel.set_rotation_speed(speed)\n",
    "carousel.move_to_target(1)\n",
    "\n",
    "# Close the serial connection\n",
    "carousel.close()\n",
    " "
   ]
  },
  {
   "cell_type": "markdown",
   "metadata": {},
   "source": [
    "## Vacuum Controls\n"
   ]
  },
  {
   "cell_type": "code",
   "execution_count": 38,
   "metadata": {},
   "outputs": [],
   "source": [
    "import pld_controlsystem_python.vacuum_ctrl as vc\n",
    "from pld_controlsystem_python.pfeiffer_vacuum_protocol import PfeifferVacuumProtocol as pvp\n"
   ]
  },
  {
   "cell_type": "code",
   "execution_count": 39,
   "metadata": {},
   "outputs": [],
   "source": [
    "vac = vc.VacuumControls(port='COM6', baudrate=9600)"
   ]
  },
  {
   "attachments": {
    "image.png": {
     "image/png": "[encoded data removed]"
    }
   },
   "cell_type": "markdown",
   "metadata": {},
   "source": [
    "![image.png](attachment:image.png)"
   ]
  },
  {
   "cell_type": "code",
   "execution_count": 40,
   "metadata": {},
   "outputs": [
    {
     "name": "stdout",
     "output_type": "stream",
     "text": [
      "1000.0 hPa 750.0637554192106 Torr\n"
     ]
    }
   ],
   "source": [
    "vac.read_pressure()\n"
   ]
  },
  {
   "cell_type": "code",
   "execution_count": 41,
   "metadata": {},
   "outputs": [
    {
     "name": "stdout",
     "output_type": "stream",
     "text": [
      "NO_ERROR\n"
     ]
    }
   ],
   "source": [
    "print(vac.read_error())\n"
   ]
  },
  {
   "cell_type": "code",
   "execution_count": 42,
   "metadata": {},
   "outputs": [],
   "source": [
    "# req=pvp._send_data_request(vac.ser,1, 740)\n",
    "# raddr, rw, rparam_num, rdata = pvp._read_gauge_response(vac.ser, valid_char_filter=None)\n",
    "# print(rdata)\n",
    "# print(req)"
   ]
  },
  {
   "cell_type": "code",
   "execution_count": 43,
   "metadata": {},
   "outputs": [],
   "source": [
    "# addr =1\n",
    "# param_num = 740\n",
    "# c = \"{:03d}00{:03d}02=?\".format(addr, param_num)\n",
    "# c += \"{:03d}\\r\".format(sum([ord(x) for x in c]) % 256)\n",
    "\n",
    "# print(c)"
   ]
  },
  {
   "cell_type": "code",
   "execution_count": 44,
   "metadata": {},
   "outputs": [
    {
     "name": "stdout",
     "output_type": "stream",
     "text": [
      "1000.0 hPa 750.0637554192106 Torr\n"
     ]
    }
   ],
   "source": [
    "# \n",
    "vac.pressure_setpoint('0')\n",
    "vac.read_pressure()"
   ]
  },
  {
   "cell_type": "code",
   "execution_count": 45,
   "metadata": {},
   "outputs": [
    {
     "name": "stdout",
     "output_type": "stream",
     "text": [
      "1.0\n"
     ]
    }
   ],
   "source": [
    "print(vac.correction_factor())\n"
   ]
  },
  {
   "cell_type": "code",
   "execution_count": 46,
   "metadata": {},
   "outputs": [
    {
     "name": "stdout",
     "output_type": "stream",
     "text": [
      "1.0\n"
     ]
    }
   ],
   "source": [
    "vac.correction_factor(1.0)\n",
    "print(vac.correction_factor())\n"
   ]
  },
  {
   "cell_type": "code",
   "execution_count": 47,
   "metadata": {},
   "outputs": [],
   "source": [
    "vac.close()"
   ]
  },
  {
   "cell_type": "markdown",
   "metadata": {},
   "source": [
    "### Temperature Controls"
   ]
  },
  {
   "cell_type": "markdown",
   "metadata": {},
   "source": [
    "Troubleshooting: \n",
    "Issues:\n",
    "- Unable to establish connection betwen computer and temperature controller.\n",
    "Possible reasons: \n",
    "Connector incompatibility: RS232 vs RS485 interface configuration. \n",
    "\n",
    "Issue Resolution:\n",
    "- The salient issue ws the physical connection between the temp controller and computer.\n",
    "- The adapter used to convert the 9-pin RS232 to USB had a RS485. So when I tried using existing python scripts and the existing LabView Driver with that adapter they didn't work.\n",
    "- The solution directly connecting the 9-pin connector to the only serial port on the computer.\n",
    "\n",
    "Takeaways:\n",
    "- Looking up numbers on the cable and connector heads can help determine the wiring configuration, and cable type.\n",
    "- The existing cables in the lab are null modem cables which do have RS232 physical configuration.\n",
    "- When trying to establish a connection between hardware and computer, first eliminate posible wiring issues completely will save a lolt of time and headaches. \n"
   ]
  },
  {
   "cell_type": "markdown",
   "metadata": {},
   "source": [
    "Note Requires pip install of minimalmodbus.py \n",
    "eurotherm_source.py:\n",
    "\n",
    "Note from Author of python script below, (script includes list of parameters):\n",
    "- All class attribute are already available, but for commodity, I'm exposing here some of the most used parameters.\n",
    "- All the other attributes can directly be called (read and written ) by instance.param"
   ]
  },
  {
   "cell_type": "code",
   "execution_count": 48,
   "metadata": {},
   "outputs": [],
   "source": [
    "import pld_controlsystem_python.eurotherm_source as es"
   ]
  },
  {
   "cell_type": "code",
   "execution_count": 49,
   "metadata": {},
   "outputs": [
    {
     "name": "stdout",
     "output_type": "stream",
     "text": [
      "Guessing of the floating point data format\n"
     ]
    }
   ],
   "source": [
    "tempctrl = es.eurotherm2408(serialPort='COM1', baudrate=9600)"
   ]
  },
  {
   "cell_type": "code",
   "execution_count": 50,
   "metadata": {},
   "outputs": [
    {
     "name": "stdout",
     "output_type": "stream",
     "text": [
      "reading 21.294965744018555 from device at register 1 \n"
     ]
    }
   ],
   "source": [
    "current_temperature = tempctrl.temperature"
   ]
  },
  {
   "cell_type": "code",
   "execution_count": 51,
   "metadata": {},
   "outputs": [],
   "source": [
    "#tempctrl.setpoint\n",
    "#tempctrl.setpoint = 23.7"
   ]
  },
  {
   "cell_type": "code",
   "execution_count": 52,
   "metadata": {},
   "outputs": [
    {
     "name": "stdout",
     "output_type": "stream",
     "text": [
      "reading -4.591774807899561e-41 from device at register 161 \n"
     ]
    },
    {
     "data": {
      "text/plain": [
       "-4.591774807899561e-41"
      ]
     },
     "execution_count": 52,
     "metadata": {},
     "output_type": "execute_result"
    }
   ],
   "source": [
    "tempctrl.rampRate"
   ]
  },
  {
   "cell_type": "code",
   "execution_count": 53,
   "metadata": {},
   "outputs": [
    {
     "name": "stdout",
     "output_type": "stream",
     "text": [
      "writing 0.1 to device at register 161 \n",
      "writing 0.1 to device at register 161 \n"
     ]
    }
   ],
   "source": [
    "tempctrl.rampRate = 0.1"
   ]
  },
  {
   "cell_type": "code",
   "execution_count": 54,
   "metadata": {},
   "outputs": [
    {
     "name": "stdout",
     "output_type": "stream",
     "text": [
      "reading 23.0 from device at register 2 \n"
     ]
    },
    {
     "data": {
      "text/plain": [
       "23.0"
      ]
     },
     "execution_count": 54,
     "metadata": {},
     "output_type": "execute_result"
    }
   ],
   "source": [
    "tempctrl.setpoint"
   ]
  },
  {
   "cell_type": "code",
   "execution_count": 55,
   "metadata": {},
   "outputs": [
    {
     "name": "stdout",
     "output_type": "stream",
     "text": [
      "reading 21.287460327148438 from device at register 1 \n",
      "reading 1 from device at register 531 \n",
      "reading 1 from device at register 531 \n",
      "writing 5 to device at register 161 \n",
      "writing 5 to device at register 161 \n",
      "reading -4.591774807899561e-41 from device at register 161 \n"
     ]
    },
    {
     "data": {
      "text/plain": [
       "-4.591774807899561e-41"
      ]
     },
     "execution_count": 55,
     "metadata": {},
     "output_type": "execute_result"
    }
   ],
   "source": [
    "tempctrl.temperature\n",
    "tempctrl.rampUnit = 'min'\n",
    "tempctrl.rampRate = 5\n",
    "#seems like ramp rate setter is not working\n",
    "tempctrl.rampRate"
   ]
  },
  {
   "cell_type": "code",
   "execution_count": 56,
   "metadata": {},
   "outputs": [
    {
     "name": "stdout",
     "output_type": "stream",
     "text": [
      "'eurotherm2408' object has no attribute 'Program_Status'\n"
     ]
    }
   ],
   "source": [
    "tempctrl.programmerState\n",
    "tempctrl.programmerState = 16"
   ]
  },
  {
   "cell_type": "code",
   "execution_count": 57,
   "metadata": {},
   "outputs": [],
   "source": [
    "tempctrl.close()"
   ]
  },
  {
   "cell_type": "markdown",
   "metadata": {},
   "source": [
    "### Throttle Valve: Pressure Controls\n",
    "MKS 651C Pressure Controller: Self Tuning \n",
    "#### Intro\n",
    "\n",
    "The controller has a control range of $10^{-4}$ to 760 mTorr\n",
    "\n",
    "The pressure units available include: Torr, mTorr, mbar, Pascal, kPa, $cmH_{2}O$, $H_2O$ \n",
    "\n",
    "There are 5 reprogrammable Setpoints\n",
    "\n",
    "The following function are also available on the Front Panel: Valve Open, Valve Close, and Stop.\n",
    "\n",
    "Before Running Script go throught the followign checklist:\n",
    "- Go to computer device manger and confirm the COM Port number for the pressure controller.\n",
    "- Make sure the key in the Front Panel of the pressure controller is turned to remote.\n",
    "\n",
    "Manual was easy enough to find. \n",
    "Functions in python script are based on:\n",
    "- RS232 formatting information can be found in Chapter 6 on page 64 \n",
    "- the table of Commands can be found in Table 26 on page 132\n",
    "- the table of Information requests can be found in Table 27 on page 138"
   ]
  },
  {
   "cell_type": "code",
   "execution_count": 58,
   "metadata": {},
   "outputs": [],
   "source": [
    "import pld_controlsystem_python.pressure_ctrl as pc"
   ]
  },
  {
   "cell_type": "code",
   "execution_count": 65,
   "metadata": {},
   "outputs": [],
   "source": [
    "pressurectrl = pc.PressureControls(port='COM11', baudrate=9600)"
   ]
  },
  {
   "cell_type": "code",
   "execution_count": 67,
   "metadata": {},
   "outputs": [
    {
     "data": {
      "text/plain": [
       "'No response'"
      ]
     },
     "execution_count": 67,
     "metadata": {},
     "output_type": "execute_result"
    }
   ],
   "source": [
    "pressurectrl.software_version_request()"
   ]
  },
  {
   "cell_type": "code",
   "execution_count": 68,
   "metadata": {},
   "outputs": [
    {
     "data": {
      "text/plain": [
       "'No response'"
      ]
     },
     "execution_count": 68,
     "metadata": {},
     "output_type": "execute_result"
    }
   ],
   "source": [
    "pressurectrl.send_request('R38', 'H')"
   ]
  },
  {
   "cell_type": "code",
   "execution_count": null,
   "metadata": {},
   "outputs": [],
   "source": [
    "\n"
   ]
  },
  {
   "cell_type": "code",
   "execution_count": null,
   "metadata": {},
   "outputs": [],
   "source": []
  },
  {
   "cell_type": "code",
   "execution_count": null,
   "metadata": {},
   "outputs": [],
   "source": []
  }
 ],
 "metadata": {
  "kernelspec": {
   "display_name": "xpsctrl",
   "language": "python",
   "name": "python3"
  },
  "language_info": {
   "codemirror_mode": {
    "name": "ipython",
    "version": 3
   },
   "file_extension": ".py",
   "mimetype": "text/x-python",
   "name": "python",
   "nbconvert_exporter": "python",
   "pygments_lexer": "ipython3",
   "version": "3.12.3"
  }
 },
 "nbformat": 4,
 "nbformat_minor": 2
}
