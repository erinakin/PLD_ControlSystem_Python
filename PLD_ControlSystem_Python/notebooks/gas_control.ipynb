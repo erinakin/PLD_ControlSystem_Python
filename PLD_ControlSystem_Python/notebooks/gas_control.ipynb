{
 "cells": [
  {
   "cell_type": "code",
   "execution_count": 2,
   "metadata": {},
   "outputs": [],
   "source": [
    "import sys\n",
    "\n",
    "\n",
    "# sys.path.append(r'C:\\Users\\ooa56\\Documents\\PLD_ControlSystem_Python')\n",
    "sys.path.append(r'C:\\Users\\ooa56\\Documents\\PLD_ControlSystem_Python\\PLD_ControlSystem_Python\\src\\pld_controlsystem_python')"
   ]
  },
  {
   "cell_type": "markdown",
   "metadata": {},
   "source": [
    "### PLD System Gas Control Components\n",
    "\n",
    "### Flow In\n",
    "- Alicat Flow Meter 1 - Gas:\n",
    "- Alicat Flow Meter 2 - Gas: \n",
    "\n",
    "### Read Pressure\n",
    "- Alicat Flow Meter 1 - Gas:\n",
    "- Alicat Flow Meter 2 - Gas: \n",
    "- Pfeiffer Vacuum: Reads Low Pressure and returns value in Torr and mbar\n",
    "- Throttle Valve (MKS 651C Pressure Controller): Reads pressure in vacuum chamber\n",
    "- Turbopump\n",
    "\n",
    "### Control Pressure/ Mass Flow\n",
    "- Alicat Flow Meter 1 - Gas:\n",
    "- Alicat Flow Meter 2 - Gas: \n",
    "- Throttle Valve (MKS 651C Pressure Controller): Reads pressure in vacuum chamber\n",
    "\n"
   ]
  },
  {
   "cell_type": "markdown",
   "metadata": {},
   "source": [
    "\n",
    "**More Information** \n",
    "\n",
    "MKS 651C Pressure Controller: Self Tuning\n",
    "\n",
    "Throttle Valve \n",
    "\n",
    "10-31-2024\n",
    "\n",
    "- The Valve position response in intuitive for position based controls\n",
    "- However testing the pressure based controls without full gas systems setup proves to have inconclusive results when observing the valve position as an indicator of the controller response when trying acheive specified pressure value."
   ]
  },
  {
   "cell_type": "markdown",
   "metadata": {},
   "source": []
  }
 ],
 "metadata": {
  "kernelspec": {
   "display_name": "XPSCTRL",
   "language": "python",
   "name": "python3"
  },
  "language_info": {
   "codemirror_mode": {
    "name": "ipython",
    "version": 3
   },
   "file_extension": ".py",
   "mimetype": "text/x-python",
   "name": "python",
   "nbconvert_exporter": "python",
   "pygments_lexer": "ipython3",
   "version": "3.12.3"
  }
 },
 "nbformat": 4,
 "nbformat_minor": 2
}
