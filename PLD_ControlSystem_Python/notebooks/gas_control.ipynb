{
 "cells": [
  {
   "cell_type": "code",
   "execution_count": 2,
   "metadata": {},
   "outputs": [],
   "source": [
    "import sys\n",
    "\n",
    "\n",
    "# sys.path.append(r'C:\\Users\\ooa56\\Documents\\PLD_ControlSystem_Python')\n",
    "sys.path.append(r'C:\\Users\\ooa56\\Documents\\PLD_ControlSystem_Python\\PLD_ControlSystem_Python\\src\\pld_controlsystem_python')"
   ]
  },
  {
   "cell_type": "markdown",
   "metadata": {},
   "source": [
    "### Throttle Valve: Pressure Controls\n",
    "MKS 651C Pressure Controller: Self Tuning \n",
    "\n",
    "**Note: No Panel GUI yet** \n",
    "\n",
    "\n",
    "#### Intro\n",
    "\n",
    "The controller has a control range of $10^{-4}$ to 760 mTorr\n",
    "\n",
    "The pressure units available include: Torr, mTorr, mbar, Pascal, kPa, $cmH_{2}O$, $H_2O$ \n",
    "\n",
    "There are 5 reprogrammable Setpoints\n",
    "\n",
    "The following function are also available on the Front Panel: Valve Open, Valve Close, and Stop.\n",
    "\n",
    "Before Running Script go throught the followign checklist:\n",
    "- Go to computer device manger and confirm the COM Port number for the pressure controller.\n",
    "- Make sure the key in the Front Panel of the pressure controller is turned to remote.\n",
    "\n",
    "Manual was easy enough to find. \n",
    "Functions in python script are based on:\n",
    "- RS232 formatting information can be found in Chapter 6 on page 64 \n",
    "- the table of Commands can be found in Table 26 on page 132\n",
    "- the table of Information requests can be found in Table 27 on page 138\n",
    "\n",
    "**Always close serial port after use to prevent serial exception error**"
   ]
  },
  {
   "cell_type": "code",
   "execution_count": 3,
   "metadata": {},
   "outputs": [
    {
     "data": {
      "text/plain": [
       "'HVERSION 1.91'"
      ]
     },
     "execution_count": 3,
     "metadata": {},
     "output_type": "execute_result"
    }
   ],
   "source": [
    "import pressure_ctrl as pc\n",
    "pressurectrl = pc.PressureControls(port='COM1', baudrate=9600)\n",
    "pressurectrl.software_version_request()\n"
   ]
  },
  {
   "cell_type": "code",
   "execution_count": 18,
   "metadata": {},
   "outputs": [
    {
     "data": {
      "text/plain": [
       "{'active_setpoint': 'Set point A',\n",
       " 'valve_status': 'Controlling',\n",
       " 'pressure_status': 'Pressure < 10% F.S.'}"
      ]
     },
     "execution_count": 18,
     "metadata": {},
     "output_type": "execute_result"
    }
   ],
   "source": [
    "pressurectrl.active_setpoint_request()"
   ]
  },
  {
   "cell_type": "code",
   "execution_count": 7,
   "metadata": {},
   "outputs": [
    {
     "data": {
      "text/plain": [
       "'Valve control direction set to Direct'"
      ]
     },
     "execution_count": 7,
     "metadata": {},
     "output_type": "execute_result"
    }
   ],
   "source": [
    "pressurectrl.valve_control_direction('set', 'direct')"
   ]
  },
  {
   "cell_type": "code",
   "execution_count": 16,
   "metadata": {},
   "outputs": [
    {
     "data": {
      "text/plain": [
       "'No response'"
      ]
     },
     "execution_count": 16,
     "metadata": {},
     "output_type": "execute_result"
    }
   ],
   "source": [
    "pressurectrl.send_command('D1')"
   ]
  },
  {
   "cell_type": "code",
   "execution_count": 17,
   "metadata": {},
   "outputs": [
    {
     "data": {
      "text/plain": [
       "'No response'"
      ]
     },
     "execution_count": 17,
     "metadata": {},
     "output_type": "execute_result"
    }
   ],
   "source": [
    "pressurectrl.send_command('S150')"
   ]
  },
  {
   "cell_type": "code",
   "execution_count": 21,
   "metadata": {},
   "outputs": [
    {
     "data": {
      "text/plain": [
       "'V+050.00'"
      ]
     },
     "execution_count": 21,
     "metadata": {},
     "output_type": "execute_result"
    }
   ],
   "source": [
    "pressurectrl.send_request('R6','V')"
   ]
  },
  {
   "cell_type": "code",
   "execution_count": null,
   "metadata": {},
   "outputs": [],
   "source": [
    "pressurectrl.pressure_request()\n",
    "pressurectrl.pressure_request()"
   ]
  },
  {
   "cell_type": "code",
   "execution_count": null,
   "metadata": {},
   "outputs": [],
   "source": [
    "pressurectrl.setpoint_controltype_request('E')"
   ]
  },
  {
   "cell_type": "markdown",
   "metadata": {},
   "source": []
  }
 ],
 "metadata": {
  "kernelspec": {
   "display_name": "XPSCTRL",
   "language": "python",
   "name": "python3"
  },
  "language_info": {
   "codemirror_mode": {
    "name": "ipython",
    "version": 3
   },
   "file_extension": ".py",
   "mimetype": "text/x-python",
   "name": "python",
   "nbconvert_exporter": "python",
   "pygments_lexer": "ipython3",
   "version": "3.12.3"
  }
 },
 "nbformat": 4,
 "nbformat_minor": 2
}
